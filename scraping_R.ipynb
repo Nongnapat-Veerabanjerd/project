{
  "cells": [
    {
      "cell_type": "markdown",
      "metadata": {
        "id": "-s37h6yS4nP3"
      },
      "source": [
        "HW 1 : IMDB Top Animation"
      ]
    },
    {
      "cell_type": "code",
      "execution_count": null,
      "metadata": {
        "colab": {
          "base_uri": "https://localhost:8080/"
        },
        "id": "0UVqaZU_xC_8",
        "outputId": "80d523b9-1a88-4465-8f2f-1c0d9f5cc4d9"
      },
      "outputs": [],
      "source": [
        "library(rvest)\n",
        "library(tidyr)\n",
        "library(stringr)\n",
        "library(dplyr)"
      ]
    },
    {
      "cell_type": "code",
      "execution_count": null,
      "metadata": {
        "id": "bx7S22fiIZ3Z"
      },
      "outputs": [],
      "source": [
        "url <- \"https://www.imdb.com/search/title/?genres=animation&groups=top_100\"\n",
        "\n",
        "movie_name <- url %>%\n",
        "  read_html() %>%\n",
        "  html_elements(\"h3.lister-item-header\") %>%\n",
        "  html_text2() %>%\n",
        "  str_replace(\"^\\\\d+\\\\.\\\\s+\", \"\")\n",
        "\n",
        "movie_time <- url %>%\n",
        "  read_html() %>%\n",
        "  html_elements(\"span.runtime\") %>%\n",
        "  html_text2()\n",
        "\n",
        "movie_genre <- url %>%\n",
        "  read_html() %>%\n",
        "  html_elements(\"span.genre\") %>%\n",
        "  html_text2()\n",
        "\n",
        "movie_rating <- url %>%\n",
        "  read_html() %>%\n",
        "  html_elements(\"div.ratings-imdb-rating\") %>%\n",
        "  html_text2() %>%\n",
        "  as.numeric()\n",
        "\n",
        "movie_votes <- url %>%\n",
        "  read_html() %>%\n",
        "  html_elements(\"p.sort-num_votes-visible\") %>%\n",
        "  html_text2()\n",
        "\n",
        "imdb_df <- data.frame(movie_name,\n",
        "                      movie_time,\n",
        "                      movie_genre,\n",
        "                      movie_rating,\n",
        "                      movie_votes)\n",
        "\n",
        "#manipulate data form column votes\n",
        "imdb_df <- imdb_df %>%\n",
        "  mutate(\n",
        "    movie_name = movie_name,\n",
        "    movie_time = movie_time,\n",
        "    movie_genre = movie_genre,\n",
        "    movie_rating = movie_rating,\n",
        "    votes = str_match(movie_votes,\"Votes:\\\\s*(\\\\d+,?\\\\d+,?\\\\d+)\")[, 2],\n",
        "    gross = str_match(movie_votes,\"Gross:\\\\s*\\\\$(\\\\d+\\\\.\\\\d+)\")[, 2],\n",
        "    tops = str_match(movie_votes,\"Top\\\\s*250:\\\\s*\\\\#(\\\\d+)\")[, 2]\n",
        "  ) %>%\n",
        "  select(movie_name, movie_time, movie_genre, movie_rating, votes, gross, tops)\n",
        "# found missing value in row 9\n",
        "\n",
        "r <- regexpr(\"\\\\d{4}\", movie_name)\n",
        "imdb_df <- imdb_df %>%\n",
        "  #separate(movie_votes, sep=\"\\\\|\", into=c(\"votes\", \"gross\", \"tops\")) %>%\n",
        "  #separate(tops, sep=\"#\", into=c(NA, \"tops\"), convert = T) %>%\n",
        "  mutate(year = regmatches(movie_name, r))\n",
        "\n",
        "#movie_name %>%\n",
        "  #str_remove(\"%([0-9]{4})%\")\n",
        "#imdb_df$movie_name <- gsub(\"%([0-9]{4})%\", \"\", imdb_df$movie_name)"
      ]
    },
    {
      "cell_type": "code",
      "execution_count": null,
      "metadata": {
        "colab": {
          "base_uri": "https://localhost:8080/",
          "height": 411
        },
        "id": "9KRrgsKsjUNK",
        "outputId": "17513ccf-c179-4c7c-91ea-cc62f64d2931"
      },
      "outputs": [
        {
          "data": {
            "text/html": [
              "<table class=\"dataframe\">\n",
              "<caption>A data.frame: 10 × 8</caption>\n",
              "<thead>\n",
              "\t<tr><th scope=col>movie_name</th><th scope=col>movie_time</th><th scope=col>movie_genre</th><th scope=col>movie_rating</th><th scope=col>votes</th><th scope=col>gross</th><th scope=col>tops</th><th scope=col>year</th></tr>\n",
              "\t<tr><th scope=col>&lt;chr&gt;</th><th scope=col>&lt;chr&gt;</th><th scope=col>&lt;chr&gt;</th><th scope=col>&lt;dbl&gt;</th><th scope=col>&lt;chr&gt;</th><th scope=col>&lt;chr&gt;</th><th scope=col>&lt;chr&gt;</th><th scope=col>&lt;chr&gt;</th></tr>\n",
              "</thead>\n",
              "<tbody>\n",
              "\t<tr><td>Spirited Away: De reis van Chihiro (2001)</td><td>125 min</td><td>Animation, Adventure, Family</td><td>8.6</td><td>774,151  </td><td>10.06 </td><td>31</td><td>2001</td></tr>\n",
              "\t<tr><td>The Lion King (1994)                     </td><td>88 min </td><td>Animation, Adventure, Drama </td><td>8.5</td><td>1,069,389</td><td>422.78</td><td>36</td><td>1994</td></tr>\n",
              "\t<tr><td>Spider-Man: Een nieuw universum (2018)   </td><td>117 min</td><td>Animation, Action, Adventure</td><td>8.4</td><td>543,123  </td><td>190.24</td><td>66</td><td>2018</td></tr>\n",
              "\t<tr><td>Toy Story (1995)                         </td><td>81 min </td><td>Animation, Adventure, Comedy</td><td>8.3</td><td>1,003,871</td><td>191.80</td><td>74</td><td>1995</td></tr>\n",
              "\t<tr><td>Coco (I) (2017)                          </td><td>105 min</td><td>Animation, Adventure, Comedy</td><td>8.4</td><td>519,612  </td><td>209.73</td><td>73</td><td>2017</td></tr>\n",
              "\t<tr><td>WALL-E (2008)                            </td><td>98 min </td><td>Animation, Adventure, Family</td><td>8.4</td><td>1,127,153</td><td>223.81</td><td>57</td><td>2008</td></tr>\n",
              "\t<tr><td>Your Name (2016)                         </td><td>106 min</td><td>Animation, Drama, Fantasy   </td><td>8.4</td><td>275,602  </td><td>5.02  </td><td>82</td><td>2016</td></tr>\n",
              "\t<tr><td>Toy Story 3 (2010)                       </td><td>103 min</td><td>Animation, Adventure, Comedy</td><td>8.3</td><td>844,312  </td><td>415.00</td><td>87</td><td>2010</td></tr>\n",
              "\t<tr><td>Grave of the Fireflies (1988)            </td><td>89 min </td><td>Animation, Drama, War       </td><td>8.5</td><td>281,765  </td><td>NA    </td><td>45</td><td>1988</td></tr>\n",
              "\t<tr><td>Princess Mononoke (1997)                 </td><td>134 min</td><td>Animation, Action, Adventure</td><td>8.4</td><td>400,002  </td><td>2.38  </td><td>79</td><td>1997</td></tr>\n",
              "</tbody>\n",
              "</table>\n"
            ],
            "text/latex": [
              "A data.frame: 10 × 8\n",
              "\\begin{tabular}{llllllll}\n",
              " movie\\_name & movie\\_time & movie\\_genre & movie\\_rating & votes & gross & tops & year\\\\\n",
              " <chr> & <chr> & <chr> & <dbl> & <chr> & <chr> & <chr> & <chr>\\\\\n",
              "\\hline\n",
              "\t Spirited Away: De reis van Chihiro (2001) & 125 min & Animation, Adventure, Family & 8.6 & 774,151   & 10.06  & 31 & 2001\\\\\n",
              "\t The Lion King (1994)                      & 88 min  & Animation, Adventure, Drama  & 8.5 & 1,069,389 & 422.78 & 36 & 1994\\\\\n",
              "\t Spider-Man: Een nieuw universum (2018)    & 117 min & Animation, Action, Adventure & 8.4 & 543,123   & 190.24 & 66 & 2018\\\\\n",
              "\t Toy Story (1995)                          & 81 min  & Animation, Adventure, Comedy & 8.3 & 1,003,871 & 191.80 & 74 & 1995\\\\\n",
              "\t Coco (I) (2017)                           & 105 min & Animation, Adventure, Comedy & 8.4 & 519,612   & 209.73 & 73 & 2017\\\\\n",
              "\t WALL-E (2008)                             & 98 min  & Animation, Adventure, Family & 8.4 & 1,127,153 & 223.81 & 57 & 2008\\\\\n",
              "\t Your Name (2016)                          & 106 min & Animation, Drama, Fantasy    & 8.4 & 275,602   & 5.02   & 82 & 2016\\\\\n",
              "\t Toy Story 3 (2010)                        & 103 min & Animation, Adventure, Comedy & 8.3 & 844,312   & 415.00 & 87 & 2010\\\\\n",
              "\t Grave of the Fireflies (1988)             & 89 min  & Animation, Drama, War        & 8.5 & 281,765   & NA     & 45 & 1988\\\\\n",
              "\t Princess Mononoke (1997)                  & 134 min & Animation, Action, Adventure & 8.4 & 400,002   & 2.38   & 79 & 1997\\\\\n",
              "\\end{tabular}\n"
            ],
            "text/markdown": [
              "\n",
              "A data.frame: 10 × 8\n",
              "\n",
              "| movie_name &lt;chr&gt; | movie_time &lt;chr&gt; | movie_genre &lt;chr&gt; | movie_rating &lt;dbl&gt; | votes &lt;chr&gt; | gross &lt;chr&gt; | tops &lt;chr&gt; | year &lt;chr&gt; |\n",
              "|---|---|---|---|---|---|---|---|\n",
              "| Spirited Away: De reis van Chihiro (2001) | 125 min | Animation, Adventure, Family | 8.6 | 774,151   | 10.06  | 31 | 2001 |\n",
              "| The Lion King (1994)                      | 88 min  | Animation, Adventure, Drama  | 8.5 | 1,069,389 | 422.78 | 36 | 1994 |\n",
              "| Spider-Man: Een nieuw universum (2018)    | 117 min | Animation, Action, Adventure | 8.4 | 543,123   | 190.24 | 66 | 2018 |\n",
              "| Toy Story (1995)                          | 81 min  | Animation, Adventure, Comedy | 8.3 | 1,003,871 | 191.80 | 74 | 1995 |\n",
              "| Coco (I) (2017)                           | 105 min | Animation, Adventure, Comedy | 8.4 | 519,612   | 209.73 | 73 | 2017 |\n",
              "| WALL-E (2008)                             | 98 min  | Animation, Adventure, Family | 8.4 | 1,127,153 | 223.81 | 57 | 2008 |\n",
              "| Your Name (2016)                          | 106 min | Animation, Drama, Fantasy    | 8.4 | 275,602   | 5.02   | 82 | 2016 |\n",
              "| Toy Story 3 (2010)                        | 103 min | Animation, Adventure, Comedy | 8.3 | 844,312   | 415.00 | 87 | 2010 |\n",
              "| Grave of the Fireflies (1988)             | 89 min  | Animation, Drama, War        | 8.5 | 281,765   | NA     | 45 | 1988 |\n",
              "| Princess Mononoke (1997)                  | 134 min | Animation, Action, Adventure | 8.4 | 400,002   | 2.38   | 79 | 1997 |\n",
              "\n"
            ],
            "text/plain": [
              "   movie_name                                movie_time\n",
              "1  Spirited Away: De reis van Chihiro (2001) 125 min   \n",
              "2  The Lion King (1994)                      88 min    \n",
              "3  Spider-Man: Een nieuw universum (2018)    117 min   \n",
              "4  Toy Story (1995)                          81 min    \n",
              "5  Coco (I) (2017)                           105 min   \n",
              "6  WALL-E (2008)                             98 min    \n",
              "7  Your Name (2016)                          106 min   \n",
              "8  Toy Story 3 (2010)                        103 min   \n",
              "9  Grave of the Fireflies (1988)             89 min    \n",
              "10 Princess Mononoke (1997)                  134 min   \n",
              "   movie_genre                  movie_rating votes     gross  tops year\n",
              "1  Animation, Adventure, Family 8.6          774,151   10.06  31   2001\n",
              "2  Animation, Adventure, Drama  8.5          1,069,389 422.78 36   1994\n",
              "3  Animation, Action, Adventure 8.4          543,123   190.24 66   2018\n",
              "4  Animation, Adventure, Comedy 8.3          1,003,871 191.80 74   1995\n",
              "5  Animation, Adventure, Comedy 8.4          519,612   209.73 73   2017\n",
              "6  Animation, Adventure, Family 8.4          1,127,153 223.81 57   2008\n",
              "7  Animation, Drama, Fantasy    8.4          275,602   5.02   82   2016\n",
              "8  Animation, Adventure, Comedy 8.3          844,312   415.00 87   2010\n",
              "9  Animation, Drama, War        8.5          281,765   NA     45   1988\n",
              "10 Animation, Action, Adventure 8.4          400,002   2.38   79   1997"
            ]
          },
          "metadata": {},
          "output_type": "display_data"
        }
      ],
      "source": [
        "imdb_df"
      ]
    },
    {
      "cell_type": "markdown",
      "metadata": {
        "id": "CUoJw44A1KDB"
      },
      "source": [
        "HW 03 : Goodreads Top 100 Literary Novels of All Time"
      ]
    },
    {
      "cell_type": "code",
      "execution_count": null,
      "metadata": {
        "id": "viqSb1YY1Jee"
      },
      "outputs": [],
      "source": [
        "library(rvest)\n",
        "library(tidyr)\n",
        "library(stringr)"
      ]
    },
    {
      "cell_type": "code",
      "execution_count": null,
      "metadata": {
        "id": "uUjuN1o21PJl"
      },
      "outputs": [],
      "source": [
        "## import data\n",
        "url_literary <- \"https://www.goodreads.com/list/show/13086.Goodreads_Top_100_Literary_Novels_of_All_Time\""
      ]
    },
    {
      "cell_type": "code",
      "execution_count": null,
      "metadata": {
        "id": "RoGT1LP04GC4"
      },
      "outputs": [],
      "source": [
        "## scraping data\n",
        "book_top <- url_literary %>%\n",
        "  read_html() %>%\n",
        "  html_elements(\"td.number\") %>%\n",
        "  html_text2()\n",
        "\n",
        "book_titles <- url_literary %>%\n",
        "  read_html() %>%\n",
        "  html_elements(\"a.bookTitle\") %>%\n",
        "  html_text2()\n",
        "\n",
        "book_authors <- url_literary %>%\n",
        "  read_html() %>%\n",
        "  html_elements(\"div.authorName__container\") %>%\n",
        "  html_text2()\n",
        "\n",
        "book_rating <- url_literary %>%\n",
        "  read_html() %>%\n",
        "  html_elements(\"span.minirating\") %>%\n",
        "  html_text2()\n",
        "\n"
      ]
    },
    {
      "cell_type": "code",
      "execution_count": null,
      "metadata": {
        "id": "OpMIKiPv9-4i"
      },
      "outputs": [],
      "source": [
        "## build data frame\n",
        "df_literary <- data.frame(\n",
        "                book_top,\n",
        "                book_titles,\n",
        "                book_authors,\n",
        "                book_rating\n",
        ")"
      ]
    },
    {
      "cell_type": "code",
      "execution_count": null,
      "metadata": {
        "colab": {
          "base_uri": "https://localhost:8080/",
          "height": 286
        },
        "id": "mMfsq2CG5rlw",
        "outputId": "0fee5818-3f9f-4062-bc20-d066e3be832a"
      },
      "outputs": [
        {
          "data": {
            "text/html": [
              "<table class=\"dataframe\">\n",
              "<caption>A data.frame: 6 × 4</caption>\n",
              "<thead>\n",
              "\t<tr><th></th><th scope=col>book_top</th><th scope=col>book_titles</th><th scope=col>book_authors</th><th scope=col>book_rating</th></tr>\n",
              "\t<tr><th></th><th scope=col>&lt;chr&gt;</th><th scope=col>&lt;chr&gt;</th><th scope=col>&lt;chr&gt;</th><th scope=col>&lt;chr&gt;</th></tr>\n",
              "</thead>\n",
              "<tbody>\n",
              "\t<tr><th scope=row>1</th><td>1</td><td>Pride and Prejudice </td><td>Jane Austen        </td><td>4.28 avg rating — 3,917,621 ratings</td></tr>\n",
              "\t<tr><th scope=row>2</th><td>2</td><td>1984                </td><td>George Orwell      </td><td>4.19 avg rating — 4,170,217 ratings</td></tr>\n",
              "\t<tr><th scope=row>3</th><td>3</td><td>The Great Gatsby    </td><td>F. Scott Fitzgerald</td><td>3.93 avg rating — 4,809,543 ratings</td></tr>\n",
              "\t<tr><th scope=row>4</th><td>4</td><td>Jane Eyre           </td><td>Charlotte Brontë   </td><td>4.14 avg rating — 1,965,552 ratings</td></tr>\n",
              "\t<tr><th scope=row>5</th><td>5</td><td>Crime and Punishment</td><td>Fyodor Dostoevsky  </td><td>4.25 avg rating — 813,773 ratings  </td></tr>\n",
              "\t<tr><th scope=row>6</th><td>6</td><td>Lolita              </td><td>Vladimir Nabokov   </td><td>3.88 avg rating — 790,103 ratings  </td></tr>\n",
              "</tbody>\n",
              "</table>\n"
            ],
            "text/latex": [
              "A data.frame: 6 × 4\n",
              "\\begin{tabular}{r|llll}\n",
              "  & book\\_top & book\\_titles & book\\_authors & book\\_rating\\\\\n",
              "  & <chr> & <chr> & <chr> & <chr>\\\\\n",
              "\\hline\n",
              "\t1 & 1 & Pride and Prejudice  & Jane Austen         & 4.28 avg rating — 3,917,621 ratings\\\\\n",
              "\t2 & 2 & 1984                 & George Orwell       & 4.19 avg rating — 4,170,217 ratings\\\\\n",
              "\t3 & 3 & The Great Gatsby     & F. Scott Fitzgerald & 3.93 avg rating — 4,809,543 ratings\\\\\n",
              "\t4 & 4 & Jane Eyre            & Charlotte Brontë    & 4.14 avg rating — 1,965,552 ratings\\\\\n",
              "\t5 & 5 & Crime and Punishment & Fyodor Dostoevsky   & 4.25 avg rating — 813,773 ratings  \\\\\n",
              "\t6 & 6 & Lolita               & Vladimir Nabokov    & 3.88 avg rating — 790,103 ratings  \\\\\n",
              "\\end{tabular}\n"
            ],
            "text/markdown": [
              "\n",
              "A data.frame: 6 × 4\n",
              "\n",
              "| <!--/--> | book_top &lt;chr&gt; | book_titles &lt;chr&gt; | book_authors &lt;chr&gt; | book_rating &lt;chr&gt; |\n",
              "|---|---|---|---|---|\n",
              "| 1 | 1 | Pride and Prejudice  | Jane Austen         | 4.28 avg rating — 3,917,621 ratings |\n",
              "| 2 | 2 | 1984                 | George Orwell       | 4.19 avg rating — 4,170,217 ratings |\n",
              "| 3 | 3 | The Great Gatsby     | F. Scott Fitzgerald | 3.93 avg rating — 4,809,543 ratings |\n",
              "| 4 | 4 | Jane Eyre            | Charlotte Brontë    | 4.14 avg rating — 1,965,552 ratings |\n",
              "| 5 | 5 | Crime and Punishment | Fyodor Dostoevsky   | 4.25 avg rating — 813,773 ratings   |\n",
              "| 6 | 6 | Lolita               | Vladimir Nabokov    | 3.88 avg rating — 790,103 ratings   |\n",
              "\n"
            ],
            "text/plain": [
              "  book_top book_titles          book_authors       \n",
              "1 1        Pride and Prejudice  Jane Austen        \n",
              "2 2        1984                 George Orwell      \n",
              "3 3        The Great Gatsby     F. Scott Fitzgerald\n",
              "4 4        Jane Eyre            Charlotte Brontë   \n",
              "5 5        Crime and Punishment Fyodor Dostoevsky  \n",
              "6 6        Lolita               Vladimir Nabokov   \n",
              "  book_rating                        \n",
              "1 4.28 avg rating — 3,917,621 ratings\n",
              "2 4.19 avg rating — 4,170,217 ratings\n",
              "3 3.93 avg rating — 4,809,543 ratings\n",
              "4 4.14 avg rating — 1,965,552 ratings\n",
              "5 4.25 avg rating — 813,773 ratings  \n",
              "6 3.88 avg rating — 790,103 ratings  "
            ]
          },
          "metadata": {},
          "output_type": "display_data"
        }
      ],
      "source": [
        "head(df_literary)"
      ]
    },
    {
      "cell_type": "code",
      "execution_count": null,
      "metadata": {
        "id": "B5CjfrP5BWwl"
      },
      "outputs": [],
      "source": [
        "## remove \",\"\n",
        "df_literary$book_rating <- df_literary$book_rating %>%\n",
        "  str_remove(\",\") %>%\n",
        "  str_remove(\",\")\n"
      ]
    },
    {
      "cell_type": "code",
      "execution_count": null,
      "metadata": {
        "colab": {
          "base_uri": "https://localhost:8080/",
          "height": 286
        },
        "id": "yIQdZ_rTBlW5",
        "outputId": "04708a0c-f0a8-4c4d-ec45-dc29da5ffa77"
      },
      "outputs": [
        {
          "data": {
            "text/html": [
              "<table class=\"dataframe\">\n",
              "<caption>A data.frame: 6 × 5</caption>\n",
              "<thead>\n",
              "\t<tr><th></th><th scope=col>book_top</th><th scope=col>book_titles</th><th scope=col>book_authors</th><th scope=col>book_rating</th><th scope=col>avg_rating</th></tr>\n",
              "\t<tr><th></th><th scope=col>&lt;chr&gt;</th><th scope=col>&lt;chr&gt;</th><th scope=col>&lt;chr&gt;</th><th scope=col>&lt;chr&gt;</th><th scope=col>&lt;dbl&gt;</th></tr>\n",
              "</thead>\n",
              "<tbody>\n",
              "\t<tr><th scope=row>1</th><td>1</td><td>Pride and Prejudice </td><td>Jane Austen        </td><td>4.28 avg rating — 3917621 ratings</td><td>4.28</td></tr>\n",
              "\t<tr><th scope=row>2</th><td>2</td><td>1984                </td><td>George Orwell      </td><td>4.19 avg rating — 4170217 ratings</td><td>4.19</td></tr>\n",
              "\t<tr><th scope=row>3</th><td>3</td><td>The Great Gatsby    </td><td>F. Scott Fitzgerald</td><td>3.93 avg rating — 4809543 ratings</td><td>3.93</td></tr>\n",
              "\t<tr><th scope=row>4</th><td>4</td><td>Jane Eyre           </td><td>Charlotte Brontë   </td><td>4.14 avg rating — 1965552 ratings</td><td>4.14</td></tr>\n",
              "\t<tr><th scope=row>5</th><td>5</td><td>Crime and Punishment</td><td>Fyodor Dostoevsky  </td><td>4.25 avg rating — 813773 ratings </td><td>4.25</td></tr>\n",
              "\t<tr><th scope=row>6</th><td>6</td><td>Lolita              </td><td>Vladimir Nabokov   </td><td>3.88 avg rating — 790103 ratings </td><td>3.88</td></tr>\n",
              "</tbody>\n",
              "</table>\n"
            ],
            "text/latex": [
              "A data.frame: 6 × 5\n",
              "\\begin{tabular}{r|lllll}\n",
              "  & book\\_top & book\\_titles & book\\_authors & book\\_rating & avg\\_rating\\\\\n",
              "  & <chr> & <chr> & <chr> & <chr> & <dbl>\\\\\n",
              "\\hline\n",
              "\t1 & 1 & Pride and Prejudice  & Jane Austen         & 4.28 avg rating — 3917621 ratings & 4.28\\\\\n",
              "\t2 & 2 & 1984                 & George Orwell       & 4.19 avg rating — 4170217 ratings & 4.19\\\\\n",
              "\t3 & 3 & The Great Gatsby     & F. Scott Fitzgerald & 3.93 avg rating — 4809543 ratings & 3.93\\\\\n",
              "\t4 & 4 & Jane Eyre            & Charlotte Brontë    & 4.14 avg rating — 1965552 ratings & 4.14\\\\\n",
              "\t5 & 5 & Crime and Punishment & Fyodor Dostoevsky   & 4.25 avg rating — 813773 ratings  & 4.25\\\\\n",
              "\t6 & 6 & Lolita               & Vladimir Nabokov    & 3.88 avg rating — 790103 ratings  & 3.88\\\\\n",
              "\\end{tabular}\n"
            ],
            "text/markdown": [
              "\n",
              "A data.frame: 6 × 5\n",
              "\n",
              "| <!--/--> | book_top &lt;chr&gt; | book_titles &lt;chr&gt; | book_authors &lt;chr&gt; | book_rating &lt;chr&gt; | avg_rating &lt;dbl&gt; |\n",
              "|---|---|---|---|---|---|\n",
              "| 1 | 1 | Pride and Prejudice  | Jane Austen         | 4.28 avg rating — 3917621 ratings | 4.28 |\n",
              "| 2 | 2 | 1984                 | George Orwell       | 4.19 avg rating — 4170217 ratings | 4.19 |\n",
              "| 3 | 3 | The Great Gatsby     | F. Scott Fitzgerald | 3.93 avg rating — 4809543 ratings | 3.93 |\n",
              "| 4 | 4 | Jane Eyre            | Charlotte Brontë    | 4.14 avg rating — 1965552 ratings | 4.14 |\n",
              "| 5 | 5 | Crime and Punishment | Fyodor Dostoevsky   | 4.25 avg rating — 813773 ratings  | 4.25 |\n",
              "| 6 | 6 | Lolita               | Vladimir Nabokov    | 3.88 avg rating — 790103 ratings  | 3.88 |\n",
              "\n"
            ],
            "text/plain": [
              "  book_top book_titles          book_authors       \n",
              "1 1        Pride and Prejudice  Jane Austen        \n",
              "2 2        1984                 George Orwell      \n",
              "3 3        The Great Gatsby     F. Scott Fitzgerald\n",
              "4 4        Jane Eyre            Charlotte Brontë   \n",
              "5 5        Crime and Punishment Fyodor Dostoevsky  \n",
              "6 6        Lolita               Vladimir Nabokov   \n",
              "  book_rating                       avg_rating\n",
              "1 4.28 avg rating — 3917621 ratings 4.28      \n",
              "2 4.19 avg rating — 4170217 ratings 4.19      \n",
              "3 3.93 avg rating — 4809543 ratings 3.93      \n",
              "4 4.14 avg rating — 1965552 ratings 4.14      \n",
              "5 4.25 avg rating — 813773 ratings  4.25      \n",
              "6 3.88 avg rating — 790103 ratings  3.88      "
            ]
          },
          "metadata": {},
          "output_type": "display_data"
        }
      ],
      "source": [
        "head(df_literary)"
      ]
    },
    {
      "cell_type": "code",
      "execution_count": null,
      "metadata": {
        "id": "ODltc17c_D51"
      },
      "outputs": [],
      "source": [
        "# clean data\n",
        "# extract average rating\n",
        "df_literary$avg_rating <- df_literary$book_rating %>%\n",
        "  str_extract(\"([0-9].[0-9]{2})\") %>%\n",
        "  as.numeric\n",
        "\n",
        "# extract total rating\n",
        "df_literary$total_rating <- df_literary$book_rating %>%\n",
        "  str_extract(\"[— ]([0-9]+)\") %>%\n",
        "  str_trim() %>%\n",
        "  as.numeric\n",
        "\n",
        "## remove rating column\n",
        "df_literary$book_rating <- NULL"
      ]
    },
    {
      "cell_type": "code",
      "execution_count": null,
      "metadata": {
        "colab": {
          "base_uri": "https://localhost:8080/",
          "height": 286
        },
        "id": "rsKECKhyB_W5",
        "outputId": "d365b811-5d61-4458-b5bd-92f51aad20e3"
      },
      "outputs": [
        {
          "data": {
            "text/html": [
              "<table class=\"dataframe\">\n",
              "<caption>A data.frame: 6 × 5</caption>\n",
              "<thead>\n",
              "\t<tr><th></th><th scope=col>book_top</th><th scope=col>book_titles</th><th scope=col>book_authors</th><th scope=col>avg_rating</th><th scope=col>total_rating</th></tr>\n",
              "\t<tr><th></th><th scope=col>&lt;chr&gt;</th><th scope=col>&lt;chr&gt;</th><th scope=col>&lt;chr&gt;</th><th scope=col>&lt;dbl&gt;</th><th scope=col>&lt;dbl&gt;</th></tr>\n",
              "</thead>\n",
              "<tbody>\n",
              "\t<tr><th scope=row>1</th><td>1</td><td>Pride and Prejudice </td><td>Jane Austen        </td><td>4.28</td><td>3917621</td></tr>\n",
              "\t<tr><th scope=row>2</th><td>2</td><td>1984                </td><td>George Orwell      </td><td>4.19</td><td>4170217</td></tr>\n",
              "\t<tr><th scope=row>3</th><td>3</td><td>The Great Gatsby    </td><td>F. Scott Fitzgerald</td><td>3.93</td><td>4809543</td></tr>\n",
              "\t<tr><th scope=row>4</th><td>4</td><td>Jane Eyre           </td><td>Charlotte Brontë   </td><td>4.14</td><td>1965552</td></tr>\n",
              "\t<tr><th scope=row>5</th><td>5</td><td>Crime and Punishment</td><td>Fyodor Dostoevsky  </td><td>4.25</td><td> 813773</td></tr>\n",
              "\t<tr><th scope=row>6</th><td>6</td><td>Lolita              </td><td>Vladimir Nabokov   </td><td>3.88</td><td> 790103</td></tr>\n",
              "</tbody>\n",
              "</table>\n"
            ],
            "text/latex": [
              "A data.frame: 6 × 5\n",
              "\\begin{tabular}{r|lllll}\n",
              "  & book\\_top & book\\_titles & book\\_authors & avg\\_rating & total\\_rating\\\\\n",
              "  & <chr> & <chr> & <chr> & <dbl> & <dbl>\\\\\n",
              "\\hline\n",
              "\t1 & 1 & Pride and Prejudice  & Jane Austen         & 4.28 & 3917621\\\\\n",
              "\t2 & 2 & 1984                 & George Orwell       & 4.19 & 4170217\\\\\n",
              "\t3 & 3 & The Great Gatsby     & F. Scott Fitzgerald & 3.93 & 4809543\\\\\n",
              "\t4 & 4 & Jane Eyre            & Charlotte Brontë    & 4.14 & 1965552\\\\\n",
              "\t5 & 5 & Crime and Punishment & Fyodor Dostoevsky   & 4.25 &  813773\\\\\n",
              "\t6 & 6 & Lolita               & Vladimir Nabokov    & 3.88 &  790103\\\\\n",
              "\\end{tabular}\n"
            ],
            "text/markdown": [
              "\n",
              "A data.frame: 6 × 5\n",
              "\n",
              "| <!--/--> | book_top &lt;chr&gt; | book_titles &lt;chr&gt; | book_authors &lt;chr&gt; | avg_rating &lt;dbl&gt; | total_rating &lt;dbl&gt; |\n",
              "|---|---|---|---|---|---|\n",
              "| 1 | 1 | Pride and Prejudice  | Jane Austen         | 4.28 | 3917621 |\n",
              "| 2 | 2 | 1984                 | George Orwell       | 4.19 | 4170217 |\n",
              "| 3 | 3 | The Great Gatsby     | F. Scott Fitzgerald | 3.93 | 4809543 |\n",
              "| 4 | 4 | Jane Eyre            | Charlotte Brontë    | 4.14 | 1965552 |\n",
              "| 5 | 5 | Crime and Punishment | Fyodor Dostoevsky   | 4.25 |  813773 |\n",
              "| 6 | 6 | Lolita               | Vladimir Nabokov    | 3.88 |  790103 |\n",
              "\n"
            ],
            "text/plain": [
              "  book_top book_titles          book_authors        avg_rating total_rating\n",
              "1 1        Pride and Prejudice  Jane Austen         4.28       3917621     \n",
              "2 2        1984                 George Orwell       4.19       4170217     \n",
              "3 3        The Great Gatsby     F. Scott Fitzgerald 3.93       4809543     \n",
              "4 4        Jane Eyre            Charlotte Brontë    4.14       1965552     \n",
              "5 5        Crime and Punishment Fyodor Dostoevsky   4.25        813773     \n",
              "6 6        Lolita               Vladimir Nabokov    3.88        790103     "
            ]
          },
          "metadata": {},
          "output_type": "display_data"
        }
      ],
      "source": [
        "head(df_literary)"
      ]
    }
  ],
  "metadata": {
    "colab": {
      "provenance": []
    },
    "kernelspec": {
      "display_name": "base",
      "language": "python",
      "name": "python3"
    },
    "language_info": {
      "name": "python",
      "version": "3.9.15"
    }
  },
  "nbformat": 4,
  "nbformat_minor": 0
}
